{
 "cells": [
  {
   "cell_type": "code",
   "execution_count": 1,
   "metadata": {},
   "outputs": [
    {
     "name": "stdout",
     "output_type": "stream",
     "text": [
      "Prabin\n"
     ]
    }
   ],
   "source": [
    "class Employee:\n",
    "    pass\n",
    "\n",
    "emp1= Employee()\n",
    "emp2 = Employee()\n",
    "\n",
    "emp1.name = 'Prabin'\n",
    "print(emp1.name)\n",
    "\n",
    "### This is hard and makes no sense for OOP."
   ]
  },
  {
   "cell_type": "code",
   "execution_count": 6,
   "metadata": {},
   "outputs": [
    {
     "name": "stdout",
     "output_type": "stream",
     "text": [
      "Prabin.Bohara@company.com\n"
     ]
    }
   ],
   "source": [
    "class Employee:\n",
    "    def __init__(self, first, last,pay): #like constructor, self => first instance\n",
    "        self.first = first\n",
    "        self.last = last\n",
    "        self.pay= pay\n",
    "        self.email = first + \".\" + last + \"@company.com\"\n",
    "\n",
    "emp1 = Employee(\"Prabin\", \"Bohara\", 40000)\n",
    "emp2 = Employee(\"Ram\", \"Basnet\",50000)\n",
    "\n",
    "print(emp1.email)"
   ]
  },
  {
   "cell_type": "code",
   "execution_count": 17,
   "metadata": {},
   "outputs": [
    {
     "name": "stdout",
     "output_type": "stream",
     "text": [
      "Prabin.Bohara@company.com\n",
      "<bound method Employee.fullname of <__main__.Employee object at 0x000001D64258EB60>>\n",
      "Prabin Bohara\n",
      "Prabin Bohara\n"
     ]
    }
   ],
   "source": [
    "### to perform actions:\n",
    "class Employee:\n",
    "    def __init__(self, first, last,pay): #like constructor, self => first instance\n",
    "        self.first = first\n",
    "        self.last = last\n",
    "        self.pay= pay\n",
    "        self.email = first + \".\" + last + \"@company.com\"\n",
    "\n",
    "    def fullname(self):\n",
    "        return \"{} {}\".format(self.first, self.last)\n",
    "\n",
    "emp1 = Employee(\"Prabin\", \"Bohara\", 40000)\n",
    "emp2 = Employee(\"Ram\", \"Basnet\",50000)\n",
    "\n",
    "print(emp1.email)\n",
    "\n",
    "print(emp1.fullname)\n",
    "print(emp1.fullname())\n",
    "print(Employee.fullname(emp1))"
   ]
  },
  {
   "cell_type": "code",
   "execution_count": null,
   "metadata": {},
   "outputs": [],
   "source": []
  },
  {
   "cell_type": "markdown",
   "metadata": {},
   "source": [
    "## 2) Class Variables vs Instance variables"
   ]
  },
  {
   "cell_type": "code",
   "execution_count": 20,
   "metadata": {},
   "outputs": [
    {
     "name": "stdout",
     "output_type": "stream",
     "text": [
      "{'__module__': '__main__', 'raise_amount': 1.04, '__init__': <function Employee.__init__ at 0x000001D6428725F0>, 'fullname': <function Employee.fullname at 0x000001D642872950>, 'apply_raise': <function Employee.apply_raise at 0x000001D6428729E0>, '__dict__': <attribute '__dict__' of 'Employee' objects>, '__weakref__': <attribute '__weakref__' of 'Employee' objects>, '__doc__': None}\n",
      "{'first': 'Prabin', 'last': 'Bohara', 'pay': 40000, 'email': 'Prabin.Bohara@company.com'}\n",
      "{'first': 'Prabin', 'last': 'Bohara', 'pay': 40000, 'email': 'Prabin.Bohara@company.com', 'raise_amount': 1.05}\n"
     ]
    }
   ],
   "source": [
    "class Employee:\n",
    "    # class variables\n",
    "    raise_amount = 1.04\n",
    "\n",
    "    def __init__(self, first, last,pay): #like constructor, self => first instance\n",
    "        self.first = first \n",
    "        self.last = last\n",
    "        self.pay= pay\n",
    "        self.email = first + \".\" + last + \"@company.com\"\n",
    "\n",
    "    def fullname(self):\n",
    "        return \"{} {}\".format(self.first, self.last)\n",
    "\n",
    "    def apply_raise(self):\n",
    "        self.pay = int(self.pay * self.raise_amount)\n",
    "\n",
    "emp1 = Employee(\"Prabin\", \"Bohara\", 40000)\n",
    "emp2 = Employee(\"Ram\", \"Basnet\",50000)\n",
    "\n",
    "print(Employee.__dict__)\n",
    "\n",
    "print(emp1.__dict__)\n",
    "emp1.raise_amount = 1.05 ## new object variable is made\n",
    "print(emp1.__dict__) \n",
    "\n",
    "#### Here, raise_amount is class variable.\n",
    "# 2 casese::\n",
    "# if it is accessed by class Employee then it is straight forward\n",
    "# if it is accessed by objects (self.raise_anout) then it first checks within it's object and goes to class (Employee) if not found.\n",
    "# using Employee.raise_amount vs self.raise_amount"
   ]
  },
  {
   "cell_type": "code",
   "execution_count": 22,
   "metadata": {},
   "outputs": [
    {
     "name": "stdout",
     "output_type": "stream",
     "text": [
      "0\n",
      "2\n"
     ]
    }
   ],
   "source": [
    "class Employee:\n",
    "    # class variables:\n",
    "    num_of_emps = 0\n",
    "    raise_amount = 1.04\n",
    "\n",
    "    def __init__(self, first, last,pay): #like constructor, self => first instance\n",
    "        self.first = first \n",
    "        self.last = last\n",
    "        self.pay= pay\n",
    "        self.email = first + \".\" + last + \"@company.com\"\n",
    "\n",
    "        Employee.num_of_emps += 1\n",
    "\n",
    "    def fullname(self):\n",
    "        return \"{} {}\".format(self.first, self.last)\n",
    "\n",
    "    def apply_raise(self):\n",
    "        self.pay = int(self.pay * self.raise_amount)\n",
    "\n",
    "print(Employee.num_of_emps)\n",
    "emp1 = Employee(\"Prabin\", \"Bohara\", 40000)\n",
    "emp2 = Employee(\"Ram\", \"Basnet\",50000)\n",
    "\n",
    "print(Employee.num_of_emps)\n"
   ]
  },
  {
   "cell_type": "markdown",
   "metadata": {},
   "source": [
    "## 3) Class methods and static methods"
   ]
  },
  {
   "cell_type": "code",
   "execution_count": 24,
   "metadata": {},
   "outputs": [
    {
     "name": "stdout",
     "output_type": "stream",
     "text": [
      "1.06\n",
      "1.06\n",
      "1.06\n"
     ]
    }
   ],
   "source": [
    "# Regular methods automatically takes 1st argument as object (e.g self)\n",
    "# how to make it take class \n",
    "# using decorator @classmethod\n",
    "\n",
    "# can use as alternative constructor\n",
    "\n",
    "class Employee:\n",
    "\n",
    "    raise_amount = 1.04\n",
    "\n",
    "    def __init__(self, first, last,pay): #like constructor, self => first instance\n",
    "        self.first = first \n",
    "        self.last = last\n",
    "        self.pay= pay\n",
    "        self.email = first + \".\" + last + \"@company.com\"\n",
    "\n",
    "    def fullname(self):\n",
    "        return \"{} {}\".format(self.first, self.last)\n",
    "\n",
    "    def apply_raise(self):\n",
    "        self.pay = int(self.pay * self.raise_amount)\n",
    "\n",
    "    @classmethod\n",
    "    def self_raise_am(cls, amount):\n",
    "        cls.raise_amount = amount\n",
    "\n",
    "emp1 = Employee(\"Prabin\", \"Bohara\", 40000)\n",
    "emp2 = Employee(\"Ram\", \"Basnet\",50000)\n",
    "\n",
    "Employee.self_raise_am(1.06)\n",
    "\n",
    "print(Employee.raise_amount)\n",
    "print(emp1.raise_amount)\n",
    "print(emp2.raise_amount)\n",
    "\n"
   ]
  },
  {
   "cell_type": "code",
   "execution_count": null,
   "metadata": {},
   "outputs": [],
   "source": [
    "# for static method: # @staticmethod"
   ]
  },
  {
   "cell_type": "markdown",
   "metadata": {},
   "source": [
    "## 4) Inheritance"
   ]
  },
  {
   "cell_type": "code",
   "execution_count": 32,
   "metadata": {},
   "outputs": [
    {
     "name": "stdout",
     "output_type": "stream",
     "text": [
      "Help on class Developer in module __main__:\n",
      "\n",
      "class Developer(Employee)\n",
      " |  Developer(first, last, pay, prog_lang)\n",
      " |  \n",
      " |  Method resolution order:\n",
      " |      Developer\n",
      " |      Employee\n",
      " |      builtins.object\n",
      " |  \n",
      " |  Methods defined here:\n",
      " |  \n",
      " |  __init__(self, first, last, pay, prog_lang)\n",
      " |      Initialize self.  See help(type(self)) for accurate signature.\n",
      " |  \n",
      " |  ----------------------------------------------------------------------\n",
      " |  Data and other attributes defined here:\n",
      " |  \n",
      " |  raise_amount = 1.1\n",
      " |  \n",
      " |  ----------------------------------------------------------------------\n",
      " |  Methods inherited from Employee:\n",
      " |  \n",
      " |  apply_raise(self)\n",
      " |  \n",
      " |  fullname(self)\n",
      " |  \n",
      " |  ----------------------------------------------------------------------\n",
      " |  Class methods inherited from Employee:\n",
      " |  \n",
      " |  self_raise_am(amount) from builtins.type\n",
      " |  \n",
      " |  ----------------------------------------------------------------------\n",
      " |  Data descriptors inherited from Employee:\n",
      " |  \n",
      " |  __dict__\n",
      " |      dictionary for instance variables (if defined)\n",
      " |  \n",
      " |  __weakref__\n",
      " |      list of weak references to the object (if defined)\n",
      "\n",
      "None\n",
      "John.Smith@company.com\n",
      "--> Prabin Bohara\n"
     ]
    }
   ],
   "source": [
    "class Employee:\n",
    "\n",
    "    raise_amount = 1.04\n",
    "\n",
    "    def __init__(self, first, last,pay): #like constructor, self => first instance\n",
    "        self.first = first \n",
    "        self.last = last\n",
    "        self.pay= pay\n",
    "        self.email = first + \".\" + last + \"@company.com\"\n",
    "\n",
    "    def fullname(self):\n",
    "        return \"{} {}\".format(self.first, self.last)\n",
    "\n",
    "    def apply_raise(self):\n",
    "        self.pay = int(self.pay * self.raise_amount)\n",
    "\n",
    "    @classmethod\n",
    "    def self_raise_am(cls, amount):\n",
    "        cls.raise_amount = amount\n",
    "\n",
    "class Developer(Employee):\n",
    "    raise_amount = 1.10\n",
    "\n",
    "    def __init__(self, first, last, pay, prog_lang):\n",
    "        super().__init__(first,last, pay)\n",
    "        ## or Employee.__init__(first,last, pay)\n",
    "        self.prog_lang = prog_lang\n",
    "        \n",
    "class Manager(Employee):\n",
    "    def __init__(self, first, last, pay, employees = None):\n",
    "        super().__init__(first, last, pay)\n",
    "        if employees is None:\n",
    "            self.employees = []\n",
    "        else:\n",
    "            self.employees = employees\n",
    "\n",
    "    def add_emp(self, emp):\n",
    "        if emp not in self.employees:\n",
    "            self.employees.append(emp)\n",
    "    \n",
    "    def remove_emp(self, emp):\n",
    "        if emp in self.employees:\n",
    "            self.employees.remove(emp)\n",
    "    \n",
    "    def print_emp(self):\n",
    "        for emp in self.employees:\n",
    "            print(\"-->\", emp.fullname())\n",
    "     \n",
    "\n",
    "\n",
    "dev1 = Developer(\"Prabin\", \"Bohara\", 40000,\"Python\")\n",
    "emp2 = Employee(\"Ram\", \"Basnet\",50000)\n",
    "\n",
    "mrg1 = Manager(\"John\", \"Smith\", 90000, [dev1])\n",
    "print(help(Developer))\n",
    "\n",
    "print(mrg1.email)\n",
    "mrg1.add_emp(emp2)\n",
    "mrg1.remove_emp(emp2)\n",
    "mrg1.print_emp()\n"
   ]
  },
  {
   "cell_type": "code",
   "execution_count": 34,
   "metadata": {},
   "outputs": [
    {
     "name": "stdout",
     "output_type": "stream",
     "text": [
      "True\n",
      "True\n",
      "False\n"
     ]
    }
   ],
   "source": [
    "### isinstance()\n",
    "print(isinstance(mrg1, Employee))\n",
    "\n",
    "## issubclass\n",
    "print(issubclass(Developer, Employee))\n",
    "print(issubclass(Developer, Manager))"
   ]
  },
  {
   "cell_type": "markdown",
   "metadata": {},
   "source": [
    "## 5) Special (Magic/Dunder) Methods:"
   ]
  },
  {
   "cell_type": "code",
   "execution_count": 41,
   "metadata": {},
   "outputs": [
    {
     "name": "stdout",
     "output_type": "stream",
     "text": [
      "Prabin Bohara - Prabin.Bohara@company.com\n",
      "Prabin Bohara - Prabin.Bohara@company.com\n",
      "Employee('Prabin', 'Bohara', '40000')\n",
      "90000\n"
     ]
    }
   ],
   "source": [
    "## dunder: __init__, __repr__, __str__\n",
    "\n",
    "class Employee:\n",
    "\n",
    "    raise_amount = 1.04\n",
    "\n",
    "    def __init__(self, first, last,pay): #like constructor, self => first instance\n",
    "        self.first = first \n",
    "        self.last = last\n",
    "        self.pay= pay\n",
    "        self.email = first + \".\" + last + \"@company.com\"\n",
    "\n",
    "    def fullname(self):\n",
    "        return \"{} {}\".format(self.first, self.last)\n",
    "\n",
    "    def apply_raise(self):\n",
    "        self.pay = int(self.pay * self.raise_amount)\n",
    "\n",
    "    @classmethod\n",
    "    def self_raise_am(cls, amount):\n",
    "        cls.raise_amount = amount\n",
    "    \n",
    "    def __repr__(self):\n",
    "        return \"Employee('{}', '{}', '{}')\".format(self.first, self.last, self.pay)\n",
    "\n",
    "    def __str__(self):\n",
    "        return \"{} - {}\".format(self.fullname(), self.email)\n",
    "    \n",
    "    ## like operator overloading\n",
    "    def __add__(self, other):\n",
    "        return self.pay + other.pay\n",
    "\n",
    "emp1 = Employee(\"Prabin\", \"Bohara\", 40000)\n",
    "emp2 = Employee(\"Ram\", \"Basnet\",50000)\n",
    "\n",
    "print(emp1)\n",
    "\n",
    "#print(str(emp1))\n",
    "#print(repr(emp1))\n",
    "\n",
    "print(emp1.__str__()) # same as print(str(emp1))\n",
    "print(emp1.__repr__()) # same as print(repr(emp1))\n",
    "\n",
    "\n",
    "print(emp1+emp2)"
   ]
  },
  {
   "cell_type": "markdown",
   "metadata": {},
   "source": [
    "## 6) Property Decorators- Getters, Setters and Deleters"
   ]
  },
  {
   "cell_type": "code",
   "execution_count": 50,
   "metadata": {},
   "outputs": [
    {
     "name": "stdout",
     "output_type": "stream",
     "text": [
      "john Messi\n",
      "john.Messi@email.com\n"
     ]
    }
   ],
   "source": [
    "# just adding @property decorator for setter:\n",
    "\n",
    "class Employee:\n",
    "\n",
    "    raise_amount = 1.04\n",
    "\n",
    "    def __init__(self, first, last,pay): #like constructor, self => first instance\n",
    "        self.first = first \n",
    "        self.last = last\n",
    "        self.pay= pay\n",
    "\n",
    "    \n",
    "    @property\n",
    "    def email(self):\n",
    "        return '{}.{}@email.com'.format(self.first, self.last)\n",
    "\n",
    "    @property\n",
    "    def fullname(self):\n",
    "        return \"{} {}\".format(self.first, self.last)\n",
    "    \n",
    "    @fullname.setter\n",
    "    def fullname(self, name):\n",
    "        first, last = name.split(\" \")\n",
    "        self.first = first\n",
    "        self.last = last\n",
    "\n",
    "    def apply_raise(self):\n",
    "        self.pay = int(self.pay * self.raise_amount)\n",
    "\n",
    "    @classmethod\n",
    "    def self_raise_am(cls, amount):\n",
    "        cls.raise_amount = amount\n",
    "\n",
    "emp1 = Employee(\"Prabin\", \"Bohara\", 40000)\n",
    "emp2 = Employee(\"Ram\", \"Basnet\",50000)\n",
    "\n",
    "emp1.fullname = \"Lionel Messi\"\n",
    "emp1.first = \"john\"\n",
    "print(emp1.fullname)\n",
    "print(emp1.email)\n",
    "\n"
   ]
  },
  {
   "cell_type": "code",
   "execution_count": null,
   "metadata": {},
   "outputs": [],
   "source": []
  }
 ],
 "metadata": {
  "kernelspec": {
   "display_name": "myenvbb",
   "language": "python",
   "name": "python3"
  },
  "language_info": {
   "codemirror_mode": {
    "name": "ipython",
    "version": 3
   },
   "file_extension": ".py",
   "mimetype": "text/x-python",
   "name": "python",
   "nbconvert_exporter": "python",
   "pygments_lexer": "ipython3",
   "version": "3.10.5"
  }
 },
 "nbformat": 4,
 "nbformat_minor": 2
}
